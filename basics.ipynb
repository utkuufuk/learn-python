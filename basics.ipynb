{
 "cells": [
  {
   "cell_type": "markdown",
   "metadata": {},
   "source": [
    "## Math"
   ]
  },
  {
   "cell_type": "code",
   "execution_count": 1,
   "metadata": {
    "scrolled": false
   },
   "outputs": [
    {
     "name": "stdout",
     "output_type": "stream",
     "text": [
      "4.5\n",
      "4\n",
      "125\n"
     ]
    }
   ],
   "source": [
    "# MATH\n",
    "print(18 / 4)                      # compute result in float\n",
    "print(18 // 4)                     # compute result in integer\n",
    "print(5 ** 3)                      # 5 to the power of 3"
   ]
  },
  {
   "cell_type": "markdown",
   "metadata": {},
   "source": [
    "## Strings"
   ]
  },
  {
   "cell_type": "code",
   "execution_count": 3,
   "metadata": {},
   "outputs": [
    {
     "name": "stdout",
     "output_type": "stream",
     "text": [
      "double\n",
      "single\n",
      "print \\nstring as is\n",
      "Utku Ufuk\n",
      "Utku Utku Utku \n",
      "4\n"
     ]
    },
    {
     "data": {
      "text/plain": [
       "'9'"
      ]
     },
     "execution_count": 3,
     "metadata": {},
     "output_type": "execute_result"
    }
   ],
   "source": [
    "print(\"double\")\n",
    "print('single')\n",
    "print(r'print \\nstring as is')     # 'r' stands for 'raw string'\n",
    "\n",
    "firstName = 'Utku '\n",
    "lastName = \"Ufuk\"\n",
    "print(firstName + lastName)        # concatanate strings\n",
    "print(firstName * 3)               # print firstName 3 times\n",
    "print(len(lastName))               # print string length\n",
    "\n",
    "str(9)                             # convert number to string"
   ]
  }
 ],
 "metadata": {
  "kernelspec": {
   "display_name": "Python 3",
   "language": "python",
   "name": "python3"
  },
  "language_info": {
   "codemirror_mode": {
    "name": "ipython",
    "version": 3
   },
   "file_extension": ".py",
   "mimetype": "text/x-python",
   "name": "python",
   "nbconvert_exporter": "python",
   "pygments_lexer": "ipython3",
   "version": "3.5.2"
  }
 },
 "nbformat": 4,
 "nbformat_minor": 2
}
